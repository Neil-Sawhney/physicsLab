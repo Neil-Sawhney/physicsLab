{
 "cells": [
  {
   "cell_type": "code",
   "execution_count": null,
   "metadata": {},
   "outputs": [],
   "source": [
    "import matplotlib\n",
    "import matplotlib.pyplot as plt\n",
    "import numpy as np"
   ]
  },
  {
   "cell_type": "code",
   "execution_count": null,
   "metadata": {},
   "outputs": [],
   "source": [
    "# Data for Youngs (lengths in nanometers)\n",
    "d = 1300.0\n",
    "lamb = 650.0\n"
   ]
  },
  {
   "cell_type": "code",
   "execution_count": null,
   "metadata": {},
   "outputs": [],
   "source": [
    "# Data for plotting\n",
    "theta = np.arange(-np.pi/2.0, np.pi/2.0, 0.001)\n",
    "delta = (2.0 * np.pi / lamb) * d * np.sin(theta)\n",
    "bigI = (np.cos(delta/2.0))**2\n",
    "dovlamsintheta = (d / lamb) * np.sin(theta)\n",
    "fig, ax = plt.subplots()\n",
    "ax.plot(dovlamsintheta, bigI)\n",
    "ax.set(xlabel='position(d/lambda)*sin(theta)', ylabel='Intensity(I)',\n",
    "       title='Youngs Double Slit Intensity')\n",
    "ax.grid()\n",
    "fig.savefig(\"youngs_ds.png\")\n",
    "plt.show()"
   ]
  },
  {
   "cell_type": "code",
   "execution_count": null,
   "metadata": {},
   "outputs": [],
   "source": []
  }
 ],
 "metadata": {
  "language_info": {
   "name": "python"
  },
  "orig_nbformat": 4
 },
 "nbformat": 4,
 "nbformat_minor": 2
}
